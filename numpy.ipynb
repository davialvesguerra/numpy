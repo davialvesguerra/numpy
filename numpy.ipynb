{
  "nbformat": 4,
  "nbformat_minor": 0,
  "metadata": {
    "colab": {
      "name": "numpy.ipynb",
      "provenance": [],
      "authorship_tag": "ABX9TyPBqe4QCOEJ/VT0dAjJp8Fy",
      "include_colab_link": true
    },
    "kernelspec": {
      "name": "python3",
      "display_name": "Python 3"
    }
  },
  "cells": [
    {
      "cell_type": "markdown",
      "metadata": {
        "id": "view-in-github",
        "colab_type": "text"
      },
      "source": [
        "<a href=\"https://colab.research.google.com/github/davialvesguerra/numpy/blob/master/numpy.ipynb\" target=\"_parent\"><img src=\"https://colab.research.google.com/assets/colab-badge.svg\" alt=\"Open In Colab\"/></a>"
      ]
    },
    {
      "cell_type": "markdown",
      "metadata": {
        "id": "UwbgOZeLpZpo",
        "colab_type": "text"
      },
      "source": [
        "1. Import the numpy package under the name np (★☆☆)"
      ]
    },
    {
      "cell_type": "code",
      "metadata": {
        "id": "yuGPYI8Yn_y_",
        "colab_type": "code",
        "colab": {}
      },
      "source": [
        "import numpy as np"
      ],
      "execution_count": 1,
      "outputs": []
    },
    {
      "cell_type": "markdown",
      "metadata": {
        "id": "6K3UNPIZpXgk",
        "colab_type": "text"
      },
      "source": [
        "2. Print the numpy version and the configuration (★☆☆)"
      ]
    },
    {
      "cell_type": "code",
      "metadata": {
        "id": "SHbvi_T6pk72",
        "colab_type": "code",
        "colab": {
          "base_uri": "https://localhost:8080/",
          "height": 35
        },
        "outputId": "eb183586-4504-4e68-9bf7-645121336c74"
      },
      "source": [
        "np.__version__"
      ],
      "execution_count": 2,
      "outputs": [
        {
          "output_type": "execute_result",
          "data": {
            "application/vnd.google.colaboratory.intrinsic+json": {
              "type": "string"
            },
            "text/plain": [
              "'1.18.5'"
            ]
          },
          "metadata": {
            "tags": []
          },
          "execution_count": 2
        }
      ]
    },
    {
      "cell_type": "markdown",
      "metadata": {
        "id": "TWBE1Zl9pxu8",
        "colab_type": "text"
      },
      "source": [
        "3. Create a null vector of size 10 (★☆☆)"
      ]
    },
    {
      "cell_type": "code",
      "metadata": {
        "id": "CGyurQjOpwxK",
        "colab_type": "code",
        "colab": {
          "base_uri": "https://localhost:8080/",
          "height": 34
        },
        "outputId": "903677c8-f264-4292-8171-b40f21c4518c"
      },
      "source": [
        "np.zeros((10))"
      ],
      "execution_count": 3,
      "outputs": [
        {
          "output_type": "execute_result",
          "data": {
            "text/plain": [
              "array([0., 0., 0., 0., 0., 0., 0., 0., 0., 0.])"
            ]
          },
          "metadata": {
            "tags": []
          },
          "execution_count": 3
        }
      ]
    },
    {
      "cell_type": "markdown",
      "metadata": {
        "id": "Bx7Qd86gqJea",
        "colab_type": "text"
      },
      "source": [
        "4. How to find the memory size of any array (★☆☆)"
      ]
    },
    {
      "cell_type": "code",
      "metadata": {
        "id": "NrlgcUgOqN2V",
        "colab_type": "code",
        "colab": {
          "base_uri": "https://localhost:8080/",
          "height": 34
        },
        "outputId": "0b5e9eba-2cc2-4af7-bba3-15394884e479"
      },
      "source": [
        "np.size(np.zeros(10))"
      ],
      "execution_count": 4,
      "outputs": [
        {
          "output_type": "execute_result",
          "data": {
            "text/plain": [
              "10"
            ]
          },
          "metadata": {
            "tags": []
          },
          "execution_count": 4
        }
      ]
    },
    {
      "cell_type": "markdown",
      "metadata": {
        "id": "08CQRj9YqZsG",
        "colab_type": "text"
      },
      "source": [
        "5. How to get the documentation of the numpy add function from the command line?"
      ]
    },
    {
      "cell_type": "code",
      "metadata": {
        "id": "eZNJVodgqd19",
        "colab_type": "code",
        "colab": {
          "base_uri": "https://localhost:8080/",
          "height": 124
        },
        "outputId": "f29fe5cc-7185-4c54-ffd3-3c30fc9cd998"
      },
      "source": [
        "np.__doc__"
      ],
      "execution_count": 5,
      "outputs": [
        {
          "output_type": "execute_result",
          "data": {
            "application/vnd.google.colaboratory.intrinsic+json": {
              "type": "string"
            },
            "text/plain": [
              "'\\nNumPy\\n=====\\n\\nProvides\\n  1. An array object of arbitrary homogeneous items\\n  2. Fast mathematical operations over arrays\\n  3. Linear Algebra, Fourier Transforms, Random Number Generation\\n\\nHow to use the documentation\\n----------------------------\\nDocumentation is available in two forms: docstrings provided\\nwith the code, and a loose standing reference guide, available from\\n`the NumPy homepage <https://www.scipy.org>`_.\\n\\nWe recommend exploring the docstrings using\\n`IPython <https://ipython.org>`_, an advanced Python shell with\\nTAB-completion and introspection capabilities.  See below for further\\ninstructions.\\n\\nThe docstring examples assume that `numpy` has been imported as `np`::\\n\\n  >>> import numpy as np\\n\\nCode snippets are indicated by three greater-than signs::\\n\\n  >>> x = 42\\n  >>> x = x + 1\\n\\nUse the built-in ``help`` function to view a function\\'s docstring::\\n\\n  >>> help(np.sort)\\n  ... # doctest: +SKIP\\n\\nFor some objects, ``np.info(obj)`` may provide additional help.  This is\\nparticularly true if you see the line \"Help on ufunc object:\" at the top\\nof the help() page.  Ufuncs are implemented in C, not Python, for speed.\\nThe native Python help() does not know how to view their help, but our\\nnp.info() function does.\\n\\nTo search for documents containing a keyword, do::\\n\\n  >>> np.lookfor(\\'keyword\\')\\n  ... # doctest: +SKIP\\n\\nGeneral-purpose documents like a glossary and help on the basic concepts\\nof numpy are available under the ``doc`` sub-module::\\n\\n  >>> from numpy import doc\\n  >>> help(doc)\\n  ... # doctest: +SKIP\\n\\nAvailable subpackages\\n---------------------\\ndoc\\n    Topical documentation on broadcasting, indexing, etc.\\nlib\\n    Basic functions used by several sub-packages.\\nrandom\\n    Core Random Tools\\nlinalg\\n    Core Linear Algebra Tools\\nfft\\n    Core FFT routines\\npolynomial\\n    Polynomial tools\\ntesting\\n    NumPy testing tools\\nf2py\\n    Fortran to Python Interface Generator.\\ndistutils\\n    Enhancements to distutils with support for\\n    Fortran compilers support and more.\\n\\nUtilities\\n---------\\ntest\\n    Run numpy unittests\\nshow_config\\n    Show numpy build configuration\\ndual\\n    Overwrite certain functions with high-performance Scipy tools\\nmatlib\\n    Make everything matrices.\\n__version__\\n    NumPy version string\\n\\nViewing documentation using IPython\\n-----------------------------------\\nStart IPython with the NumPy profile (``ipython -p numpy``), which will\\nimport `numpy` under the alias `np`.  Then, use the ``cpaste`` command to\\npaste examples into the shell.  To see which functions are available in\\n`numpy`, type ``np.<TAB>`` (where ``<TAB>`` refers to the TAB key), or use\\n``np.*cos*?<ENTER>`` (where ``<ENTER>`` refers to the ENTER key) to narrow\\ndown the list.  To view the docstring for a function, use\\n``np.cos?<ENTER>`` (to view the docstring) and ``np.cos??<ENTER>`` (to view\\nthe source code).\\n\\nCopies vs. in-place operation\\n-----------------------------\\nMost of the functions in `numpy` return a copy of the array argument\\n(e.g., `np.sort`).  In-place versions of these functions are often\\navailable as array methods, i.e. ``x = np.array([1,2,3]); x.sort()``.\\nExceptions to this rule are documented.\\n\\n'"
            ]
          },
          "metadata": {
            "tags": []
          },
          "execution_count": 5
        }
      ]
    },
    {
      "cell_type": "markdown",
      "metadata": {
        "id": "wVnID0pPsA4W",
        "colab_type": "text"
      },
      "source": [
        "6. Create a null vector of size 10 but the fifth value which is 1 (★☆☆)"
      ]
    },
    {
      "cell_type": "code",
      "metadata": {
        "id": "0HTrD9Lrr_10",
        "colab_type": "code",
        "colab": {
          "base_uri": "https://localhost:8080/",
          "height": 34
        },
        "outputId": "2fd26a42-1c9b-4eb3-9b89-0bf01cddfff0"
      },
      "source": [
        "x = np.zeros(10)\n",
        "x[4] = 1\n",
        "x"
      ],
      "execution_count": 6,
      "outputs": [
        {
          "output_type": "execute_result",
          "data": {
            "text/plain": [
              "array([0., 0., 0., 0., 1., 0., 0., 0., 0., 0.])"
            ]
          },
          "metadata": {
            "tags": []
          },
          "execution_count": 6
        }
      ]
    },
    {
      "cell_type": "markdown",
      "metadata": {
        "id": "R-mdurkrsWj_",
        "colab_type": "text"
      },
      "source": [
        "7. Create a vector with values ranging from 10 to 49 (★☆☆)"
      ]
    },
    {
      "cell_type": "code",
      "metadata": {
        "id": "4emPOOM7sbSl",
        "colab_type": "code",
        "colab": {
          "base_uri": "https://localhost:8080/",
          "height": 70
        },
        "outputId": "47c7c2d8-dfa5-4eaf-fced-d1b00455990f"
      },
      "source": [
        "np.arange(10,50)"
      ],
      "execution_count": 7,
      "outputs": [
        {
          "output_type": "execute_result",
          "data": {
            "text/plain": [
              "array([10, 11, 12, 13, 14, 15, 16, 17, 18, 19, 20, 21, 22, 23, 24, 25, 26,\n",
              "       27, 28, 29, 30, 31, 32, 33, 34, 35, 36, 37, 38, 39, 40, 41, 42, 43,\n",
              "       44, 45, 46, 47, 48, 49])"
            ]
          },
          "metadata": {
            "tags": []
          },
          "execution_count": 7
        }
      ]
    },
    {
      "cell_type": "markdown",
      "metadata": {
        "id": "rBq_VzYFsuXJ",
        "colab_type": "text"
      },
      "source": [
        "8. Reverse a vector (first element becomes last) (★☆☆)"
      ]
    },
    {
      "cell_type": "code",
      "metadata": {
        "id": "WgoO0GMEsyrk",
        "colab_type": "code",
        "colab": {
          "base_uri": "https://localhost:8080/",
          "height": 70
        },
        "outputId": "544610f7-45d5-42ed-bbed-f443eaf2749c"
      },
      "source": [
        "x = np.arange(50)\n",
        "x[::-1]"
      ],
      "execution_count": 8,
      "outputs": [
        {
          "output_type": "execute_result",
          "data": {
            "text/plain": [
              "array([49, 48, 47, 46, 45, 44, 43, 42, 41, 40, 39, 38, 37, 36, 35, 34, 33,\n",
              "       32, 31, 30, 29, 28, 27, 26, 25, 24, 23, 22, 21, 20, 19, 18, 17, 16,\n",
              "       15, 14, 13, 12, 11, 10,  9,  8,  7,  6,  5,  4,  3,  2,  1,  0])"
            ]
          },
          "metadata": {
            "tags": []
          },
          "execution_count": 8
        }
      ]
    },
    {
      "cell_type": "markdown",
      "metadata": {
        "id": "9WBksIvOtvy_",
        "colab_type": "text"
      },
      "source": [
        "9. Create a 3x3 matrix with values ranging from 0 to 8 (★☆☆)"
      ]
    },
    {
      "cell_type": "code",
      "metadata": {
        "id": "z0WYvd9Ptxzb",
        "colab_type": "code",
        "colab": {
          "base_uri": "https://localhost:8080/",
          "height": 70
        },
        "outputId": "efa0db72-4248-43d3-cfeb-730d0e334058"
      },
      "source": [
        "np.arange(9).reshape(3,3)"
      ],
      "execution_count": 9,
      "outputs": [
        {
          "output_type": "execute_result",
          "data": {
            "text/plain": [
              "array([[0, 1, 2],\n",
              "       [3, 4, 5],\n",
              "       [6, 7, 8]])"
            ]
          },
          "metadata": {
            "tags": []
          },
          "execution_count": 9
        }
      ]
    },
    {
      "cell_type": "markdown",
      "metadata": {
        "id": "aHmPXtcSu9-p",
        "colab_type": "text"
      },
      "source": [
        "10. Find indices of non-zero elements from [1,2,0,0,4,0] (★☆☆)"
      ]
    },
    {
      "cell_type": "code",
      "metadata": {
        "id": "aS6Exiwtu9WE",
        "colab_type": "code",
        "colab": {
          "base_uri": "https://localhost:8080/",
          "height": 34
        },
        "outputId": "b1b920f9-7a32-4c3d-a7b1-fefe110893c0"
      },
      "source": [
        "x = np.array([1,2,0,0,4,0])\n",
        "np.where(x==0)\n",
        "\n"
      ],
      "execution_count": 13,
      "outputs": [
        {
          "output_type": "execute_result",
          "data": {
            "text/plain": [
              "(array([2, 3, 5]),)"
            ]
          },
          "metadata": {
            "tags": []
          },
          "execution_count": 13
        }
      ]
    },
    {
      "cell_type": "markdown",
      "metadata": {
        "id": "5UUsMmd0v9RL",
        "colab_type": "text"
      },
      "source": [
        "11. Create a 3x3 identity matrix (★☆☆)"
      ]
    },
    {
      "cell_type": "code",
      "metadata": {
        "id": "ajplMaa7wCIs",
        "colab_type": "code",
        "colab": {
          "base_uri": "https://localhost:8080/",
          "height": 70
        },
        "outputId": "9d96332c-0f50-4fb8-e1b1-6e8ce0288534"
      },
      "source": [
        "np.eye(3,3,0)"
      ],
      "execution_count": 24,
      "outputs": [
        {
          "output_type": "execute_result",
          "data": {
            "text/plain": [
              "array([[1., 0., 0.],\n",
              "       [0., 1., 0.],\n",
              "       [0., 0., 1.]])"
            ]
          },
          "metadata": {
            "tags": []
          },
          "execution_count": 24
        }
      ]
    },
    {
      "cell_type": "code",
      "metadata": {
        "id": "CqW5qXfTxE1P",
        "colab_type": "code",
        "colab": {
          "base_uri": "https://localhost:8080/",
          "height": 212
        },
        "outputId": "4a8362c5-63a6-48ff-8122-ea98d015e6ce"
      },
      "source": [
        "np.random.random([3,3,3])"
      ],
      "execution_count": 34,
      "outputs": [
        {
          "output_type": "execute_result",
          "data": {
            "text/plain": [
              "array([[[0.80603179, 0.25572121, 0.51522137],\n",
              "        [0.33413976, 0.36779339, 0.19612504],\n",
              "        [0.62917761, 0.22935972, 0.32500944]],\n",
              "\n",
              "       [[0.3795069 , 0.45336891, 0.7528269 ],\n",
              "        [0.16252611, 0.47141764, 0.06661376],\n",
              "        [0.17094028, 0.09516509, 0.51005557]],\n",
              "\n",
              "       [[0.39668124, 0.23683294, 0.80256453],\n",
              "        [0.80343865, 0.85478172, 0.91265049],\n",
              "        [0.98899388, 0.03517066, 0.59042383]]])"
            ]
          },
          "metadata": {
            "tags": []
          },
          "execution_count": 34
        }
      ]
    },
    {
      "cell_type": "markdown",
      "metadata": {
        "id": "V5ljLsONyYNT",
        "colab_type": "text"
      },
      "source": [
        "13. Create a 10x10 array with random values and find the minimum and maximum values (★☆☆)"
      ]
    },
    {
      "cell_type": "code",
      "metadata": {
        "id": "WC0093BlyclJ",
        "colab_type": "code",
        "colab": {
          "base_uri": "https://localhost:8080/",
          "height": 52
        },
        "outputId": "90228d81-33dc-49fa-c206-059cb22703fb"
      },
      "source": [
        "x = np.random.random((10,10))\n",
        "print(x.min(),\"\\n\",x.max())\n"
      ],
      "execution_count": 52,
      "outputs": [
        {
          "output_type": "stream",
          "text": [
            "0.0014763874876103644 \n",
            " 0.99025344387072\n"
          ],
          "name": "stdout"
        }
      ]
    },
    {
      "cell_type": "markdown",
      "metadata": {
        "id": "rjk0FR-oz60j",
        "colab_type": "text"
      },
      "source": [
        "14. Create a random vector of size 30 and find the mean value (★☆☆)"
      ]
    },
    {
      "cell_type": "code",
      "metadata": {
        "id": "D1qkQ_VXz8V4",
        "colab_type": "code",
        "colab": {
          "base_uri": "https://localhost:8080/",
          "height": 34
        },
        "outputId": "b80a72f2-f354-46e1-84b5-74e0ac82d983"
      },
      "source": [
        "np.random.randint(low = 0, high = 101, size = (30,2)).mean()"
      ],
      "execution_count": 71,
      "outputs": [
        {
          "output_type": "execute_result",
          "data": {
            "text/plain": [
              "53.35"
            ]
          },
          "metadata": {
            "tags": []
          },
          "execution_count": 71
        }
      ]
    },
    {
      "cell_type": "markdown",
      "metadata": {
        "id": "AJ14AzvH2-e0",
        "colab_type": "text"
      },
      "source": [
        "15. Create a 2d array with 1 on the border and 0 inside (★☆☆)"
      ]
    },
    {
      "cell_type": "code",
      "metadata": {
        "id": "OWoEnnNK3A4x",
        "colab_type": "code",
        "colab": {}
      },
      "source": [
        "x = np.ones((10,10))\n",
        "x[1:-1,1:-1] = 0\n",
        "x"
      ],
      "execution_count": null,
      "outputs": []
    },
    {
      "cell_type": "markdown",
      "metadata": {
        "id": "8AsvzWn64vdz",
        "colab_type": "text"
      },
      "source": [
        "16. How to add a border (filled with 0's) around an existing array? (★☆☆)"
      ]
    },
    {
      "cell_type": "code",
      "metadata": {
        "id": "_nAL1c5w4u72",
        "colab_type": "code",
        "colab": {
          "base_uri": "https://localhost:8080/",
          "height": 34
        },
        "outputId": "0f7e902f-a46a-4192-d265-bc2d0d750eb1"
      },
      "source": [
        "x = np.ones((5,5))\n",
        "x = np.pad(x, pad_width=1, mode='constant', constant_values=0)\n"
      ],
      "execution_count": 104,
      "outputs": [
        {
          "output_type": "execute_result",
          "data": {
            "text/plain": [
              "array([2., 1., 1., 1., 1.])"
            ]
          },
          "metadata": {
            "tags": []
          },
          "execution_count": 104
        }
      ]
    }
  ]
}